{
 "cells": [
  {
   "cell_type": "code",
   "execution_count": 1,
   "id": "27026334",
   "metadata": {},
   "outputs": [
    {
     "name": "stdout",
     "output_type": "stream",
     "text": [
      "train_data : shape of  (377539, 2, 32, 32)\n",
      "test_data : shape of  (18865, 2, 32, 32)\n",
      "train_coords : shape of  (377539, 2)\n",
      "test_coords : shape of  (18865, 2)\n",
      "train_data_tokenized : shape of  (377539, 16, 16)\n",
      "test_data_tokenized : shape of  (18865, 16, 16)\n",
      "decode_table : shape of  (38755, 2, 2)\n"
     ]
    }
   ],
   "source": [
    "import numpy as np\n",
    "import matplotlib.pyplot as plt\n",
    "from RandAR.model.nlcd_tokenizer import NLCDTokenizer\n",
    "\n",
    "data_path = '../data/data_size32_ratio8.npz'\n",
    "\n",
    "data = np.load(data_path)\n",
    "for k,v in data.items():\n",
    "    print(k, \": shape of \", v.shape)"
   ]
  },
  {
   "cell_type": "code",
   "execution_count": 3,
   "id": "c69b8613",
   "metadata": {},
   "outputs": [
    {
     "data": {
      "image/png": "[encoded data removed]",
      "text/plain": [
       "<Figure size 400x400 with 16 Axes>"
      ]
     },
     "metadata": {},
     "output_type": "display_data"
    }
   ],
   "source": [
    "n_rows = 4\n",
    "n_cols = 4\n",
    "\n",
    "\n",
    "codebook_size = len(data['decode_table'])\n",
    "tokenizer = NLCDTokenizer(vocab_size=codebook_size)\n",
    "n_samples = n_rows * n_cols\n",
    "\n",
    "fig, axes = plt.subplots(n_rows, n_cols, figsize=(n_cols, n_rows))\n",
    "axes = axes.flatten()\n",
    "\n",
    "random_idx = np.random.choice(codebook_size, size=n_rows*n_cols, replace=False)\n",
    "#random_idx = np.arange(n_samples)\n",
    "for i, code_idx in enumerate(random_idx):\n",
    "   axes[i].imshow(tokenizer.nlcd_to_rgb(data['decode_table'][code_idx]))\n",
    "   axes[i].axis('off')"
   ]
  },
  {
   "cell_type": "code",
   "execution_count": null,
   "id": "22d1e942",
   "metadata": {},
   "outputs": [],
   "source": []
  }
 ],
 "metadata": {
  "kernelspec": {
   "display_name": ".venv",
   "language": "python",
   "name": "python3"
  },
  "language_info": {
   "codemirror_mode": {
    "name": "ipython",
    "version": 3
   },
   "file_extension": ".py",
   "mimetype": "text/x-python",
   "name": "python",
   "nbconvert_exporter": "python",
   "pygments_lexer": "ipython3",
   "version": "3.10.12"
  }
 },
 "nbformat": 4,
 "nbformat_minor": 5
}
